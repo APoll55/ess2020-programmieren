{
 "cells": [
  {
   "cell_type": "markdown",
   "metadata": {},
   "source": [
    "# Programmieren für Kultur- und GeisteswissenschaftlerInnen\n",
    "\n",
    "Mo, 31. August, 14:15 Uhr bis 17:45 Uhr  \n",
    "Di, 1. September 11:15 Uhr bis 12:45 Uhr und 14:15 Uhr bis 17:45 Uhr"
   ]
  },
  {
   "cell_type": "markdown",
   "metadata": {},
   "source": [
    "## Agenda\n",
    "\n",
    "### Einführung\n",
    "\n",
    "Link zum Notebook \"[Einführung](einfuehrung.ipynb)\"\n",
    "\n",
    "* Informationen zur Arbeitsumgebung: Jupyter und Binder\n",
    "* Grundlegende Informationen zu Python\n",
    "* Was ist ein Programm und wie können wir es aufschreiben?\n",
    "\n",
    "### Grundlegende Elemente der Programmierung\n",
    "\n",
    "Link zum Notebook \"[Grundlagen](grundlagen.ipynb)\"\n",
    "\n",
    "* Variablen und Datentypen\n",
    "* Ausdrücke und Operatoren\n",
    "* Bedingungen\n",
    "* Eingabe und Ausgabe\n",
    "\n",
    "### Übungsaufgaben 1\n",
    "\n",
    "Link zum Notebook \"[Übungsaufgaben 1](uebungsaufgaben1.ipynb)\""
   ]
  },
  {
   "cell_type": "code",
   "execution_count": null,
   "metadata": {},
   "outputs": [],
   "source": []
  }
 ],
 "metadata": {
  "kernelspec": {
   "display_name": "Python 3",
   "language": "python",
   "name": "python3"
  },
  "language_info": {
   "codemirror_mode": {
    "name": "ipython",
    "version": 3
   },
   "file_extension": ".py",
   "mimetype": "text/x-python",
   "name": "python",
   "nbconvert_exporter": "python",
   "pygments_lexer": "ipython3",
   "version": "3.8.5"
  }
 },
 "nbformat": 4,
 "nbformat_minor": 4
}
