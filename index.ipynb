{
 "cells": [
  {
   "cell_type": "markdown",
   "metadata": {
    "slideshow": {
     "slide_type": "slide"
    }
   },
   "source": [
    "<img src=\"https://ess.upb.de/img/ViFE-ESS-logo_transparent_1600x842.png\" alt=\"ESS 2020\" style=\"width:200px; float:right;\"/>\n",
    "\n",
    "# Programmieren für Kultur- und GeisteswissenschaftlerInnen\n",
    "\n",
    "Daniel Röwenstrunk – Anastasia Wawilow – Peter Stadler\n",
    "\n",
    "Mo, 31. August, 14:15 Uhr bis 17:45 Uhr  \n",
    "Di, 1. September 11:15 Uhr bis 12:45 Uhr und 14:15 Uhr bis 17:45 Uhr"
   ]
  },
  {
   "cell_type": "markdown",
   "metadata": {
    "slideshow": {
     "slide_type": "slide"
    }
   },
   "source": [
    "## Agenda\n",
    "\n",
    "### Einführung\n",
    "\n",
    "Link zum Notebook \"[Einführung](einfuehrung.ipynb)\"\n",
    "\n",
    "* Informationen zur Arbeitsumgebung: Jupyter und Binder\n",
    "* Grundlegende Informationen zu Python\n",
    "* Was ist ein Programm und wie können wir es aufschreiben?"
   ]
  },
  {
   "cell_type": "markdown",
   "metadata": {
    "slideshow": {
     "slide_type": "subslide"
    }
   },
   "source": [
    "### Grundlegende Elemente der Programmierung\n",
    "\n",
    "Link zum Notebook \"[Grundlagen](grundlagen.ipynb)\"\n",
    "\n",
    "* Variablen und Datentypen\n",
    "* Ausdrücke und Operatoren\n",
    "* Eingabe und Ausgabe\n",
    "* Bedingungen\n",
    "\n",
    "### Übungsaufgaben 1\n",
    "\n",
    "Link zum Notebook \"[Übungsaufgaben 1](uebungsaufgaben1.ipynb)\""
   ]
  }
 ],
 "metadata": {
  "kernelspec": {
   "display_name": "Python 3",
   "language": "python",
   "name": "python3"
  },
  "language_info": {
   "codemirror_mode": {
    "name": "ipython",
    "version": 3
   },
   "file_extension": ".py",
   "mimetype": "text/x-python",
   "name": "python",
   "nbconvert_exporter": "python",
   "pygments_lexer": "ipython3",
   "version": "3.8.5"
  }
 },
 "nbformat": 4,
 "nbformat_minor": 4
}
