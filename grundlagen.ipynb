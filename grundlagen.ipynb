{
 "cells": [
  {
   "cell_type": "markdown",
   "metadata": {},
   "source": [
    "# Grundlegende Elemente der Programmierung"
   ]
  },
  {
   "cell_type": "markdown",
   "metadata": {},
   "source": [
    "## Variablen\n",
    "\n",
    "Variablen sind – wie Schubladen – Behälter, in die wir Wissen hineinlegen können. Auf dieses Wissen kann ein Programm zur Laufzeit zugreifen. Der Befriff 'Variable' kommt vom lateinischen 'variare' und bedeutet 'verändern'. Die Daten in Variablen sind veränderbar, während das Programm ausgeführt wird. Konstanten sind ebenfalls Behälter, die wir mit einem Datum füllen können, diese können aber nicht mehr verändert werden, wenn sie einmal deklariert sind.\n",
    "\n",
    "Technisch sind Variablen Bereiche des (Arbeits-)Speichers des Computers. Wir geben einer Variablen im Quelltext unseres Programms einen Namen, damit wir diesen Speicherbereich addressieren können."
   ]
  },
  {
   "cell_type": "code",
   "execution_count": null,
   "metadata": {},
   "outputs": [],
   "source": [
    "a = 5\n",
    "a"
   ]
  },
  {
   "cell_type": "markdown",
   "metadata": {},
   "source": [
    "Das Datum einer Variable wird in Python mit einem '=' Zeichen zugewiesen. Links vor dem Gleichheitszeichen steht der Name der Variable (die Adresse). Rechts von dem Gleichheitszeichen steht der Wert (das Datum)."
   ]
  },
  {
   "cell_type": "code",
   "execution_count": null,
   "metadata": {},
   "outputs": [],
   "source": [
    "a = 5\n",
    "a = 12\n",
    "a"
   ]
  },
  {
   "cell_type": "code",
   "execution_count": null,
   "metadata": {},
   "outputs": [],
   "source": [
    "a"
   ]
  },
  {
   "cell_type": "code",
   "execution_count": null,
   "metadata": {},
   "outputs": [],
   "source": [
    "b = 8\n",
    "a = 22\n",
    "b"
   ]
  },
  {
   "cell_type": "markdown",
   "metadata": {},
   "source": [
    "## Datentypen\n",
    "\n",
    "Genauso wie es in einem Rezept unterschiedliche Arten von Zutaten gibt, gibt es in einem Programm unterschiedliche Arten von Variablenwerten bzw. von Datentypen.\n",
    "\n",
    "Alle Werte in Python sind Objekte und haben einen Typ. Wir können diesen Typ immer mit dem Befehl `type()` abfragen:"
   ]
  },
  {
   "cell_type": "code",
   "execution_count": null,
   "metadata": {},
   "outputs": [],
   "source": [
    "type(a)"
   ]
  },
  {
   "cell_type": "markdown",
   "metadata": {},
   "source": [
    "Wir unterscheiden primitive Datentypen und komplexe Datentypen. Komplexe Datentypen nutzen primitive Datentypen, um Strukturen zu erzeugen.\n",
    "\n",
    "Primitive Typen sind\n",
    "\n",
    "* int: ganze Zahlen\n",
    "* float: reele Zahlen (rationale und irrationale)\n",
    "* bool: Wahrheitswerte\n",
    "* string: Zeichenketten\n",
    "* NoneType: kein Wert, None\n",
    "\n",
    "In Python ist es nicht notwendig, den Typ eines Datums explizit anzugeben. Der Interpreter wählt den Typus, der am besten zu dem Datum passt. Indirekt bestimmen wir dennoch durch die Art, wie wir einen Wert angeben, welchen Typ der Wert hat."
   ]
  },
  {
   "cell_type": "code",
   "execution_count": null,
   "metadata": {},
   "outputs": [],
   "source": [
    "a = 5\n",
    "type(a)"
   ]
  },
  {
   "cell_type": "code",
   "execution_count": null,
   "metadata": {},
   "outputs": [],
   "source": [
    "a = 5.0\n",
    "type(a)"
   ]
  },
  {
   "cell_type": "code",
   "execution_count": null,
   "metadata": {},
   "outputs": [],
   "source": [
    "a = '5'\n",
    "type(a)"
   ]
  },
  {
   "cell_type": "code",
   "execution_count": null,
   "metadata": {},
   "outputs": [],
   "source": [
    "a = True\n",
    "type(a)"
   ]
  },
  {
   "cell_type": "code",
   "execution_count": null,
   "metadata": {},
   "outputs": [],
   "source": [
    "x\n",
    "type(x)"
   ]
  },
  {
   "cell_type": "code",
   "execution_count": null,
   "metadata": {},
   "outputs": [],
   "source": [
    "x = None\n",
    "type(x)"
   ]
  },
  {
   "cell_type": "markdown",
   "metadata": {},
   "source": [
    "Das Verändern des Typs eines Werts nennen wir 'type casting'\n",
    "\n",
    "* float(3) => 3.0 (int zu float)\n",
    "* int(3.7) => 3 (keine Rundung)\n",
    "* str(5.3) => '5.3' (als drei Zeichen)"
   ]
  },
  {
   "cell_type": "code",
   "execution_count": null,
   "metadata": {},
   "outputs": [],
   "source": [
    "float(3)"
   ]
  },
  {
   "cell_type": "code",
   "execution_count": null,
   "metadata": {},
   "outputs": [],
   "source": [
    "int(3.7)"
   ]
  },
  {
   "cell_type": "code",
   "execution_count": null,
   "metadata": {},
   "outputs": [],
   "source": [
    "str(5.3)"
   ]
  },
  {
   "cell_type": "code",
   "execution_count": null,
   "metadata": {},
   "outputs": [],
   "source": [
    "a = float('6.2')\n",
    "type(a)"
   ]
  },
  {
   "cell_type": "markdown",
   "metadata": {},
   "source": [
    "## Kommentare\n",
    "\n",
    "Wir können mit Hilfe von Kommentaren unseren Quelltext für uns selbst und für andere Menschen leichter lesbar machen. Kommentare, die nur innerhalb einer Zeile bleiben, können wir mit einem `#` einleiten. Kommentare, die über mehrere Zeilen gehen sollen, werden mit `\"\"\"` eingeleitet und auch mit `\"\"\"` wieder beendet."
   ]
  },
  {
   "cell_type": "code",
   "execution_count": null,
   "metadata": {},
   "outputs": [],
   "source": [
    "# Hier steht ein Kommentar. Kommentare werden vom Interpreter ignoriert.\n",
    "\n",
    "a = 5 # Ein Kommentar darf auch hinter einer Deklaration oder Instruktion stehen.\n",
    "# Der Teil vor dem '#' wird normal ausgeführt.\n",
    "\n",
    "\"\"\"\n",
    "Hier steht ein Kommentar, der mehrere Zeilen umfassen soll.\n",
    "Das ist manchmal sehr hilfreich, wenn wir eine komplizierte Stelle im Quelltext\n",
    "oder eine Funktion oder etwas ähnlich komplexes beschreiben wollen.\n",
    "\"\"\""
   ]
  },
  {
   "attachments": {},
   "cell_type": "markdown",
   "metadata": {},
   "source": [
    "## Ausdrücke und Operatoren\n",
    "\n",
    "Ausdrücke kombinieren Objekte und Operatoren, sie haben einen Wert und einen Typ.\n",
    "\n",
    "Operatoren auf int und float sind:\n",
    "\n",
    "* `+` Addition\n",
    "* `-` Subtraktion\n",
    "* `*` Multiplikation\n",
    "* `/` Division\n",
    "* `%` Modulo\n",
    "* `**` Exponieren\n",
    "\n",
    "Klammern definieren die Reihenfolge der Operationen eines mathematischen Ausdrucks. Wenn keine Klammern angegeben sind, gilt folgende Reihenfolge: `**` vor `*` vor `/` vor `+` und `-` (von links nach rechts)"
   ]
  },
  {
   "cell_type": "markdown",
   "metadata": {},
   "source": [
    "Bitte berechnet, wieviel 36,3 Grad Celsius in Fahrenheit ist.\n",
    "\n",
    "Um eine Gradangabe von Celcius zu Fahrenheit umzurechnen, wird der\n",
    "Wert in Celsius mit Neun-Fünfteln multipliziert und mit 32 addiert.\n",
    "\n",
    "Deklariert dafür eine Variable c.  \n",
    "Berechnet dann den Ausdruck und speichert ihn in eine Variable f.  \n",
    "Gebt f aus.\n"
   ]
  },
  {
   "cell_type": "code",
   "execution_count": null,
   "metadata": {},
   "outputs": [],
   "source": []
  }
 ],
 "metadata": {
  "kernelspec": {
   "display_name": "Python 3",
   "language": "python",
   "name": "python3"
  },
  "language_info": {
   "codemirror_mode": {
    "name": "ipython",
    "version": 3
   },
   "file_extension": ".py",
   "mimetype": "text/x-python",
   "name": "python",
   "nbconvert_exporter": "python",
   "pygments_lexer": "ipython3",
   "version": "3.8.5"
  }
 },
 "nbformat": 4,
 "nbformat_minor": 4
}
