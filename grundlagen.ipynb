{
 "cells": [
  {
   "cell_type": "markdown",
   "metadata": {},
   "source": [
    "# Grundlegende Elemente der Programmierung"
   ]
  },
  {
   "cell_type": "markdown",
   "metadata": {},
   "source": [
    "## Variablen\n",
    "\n",
    "Variablen sind – wie Schubladen – Behälter, in die wir Wissen hineinlegen können. Auf dieses Wissen kann ein Programm zur Laufzeit zugreifen. Der Befriff 'Variable' kommt vom lateinischen 'variare' und bedeutet 'verändern'. Die Daten in Variablen sind veränderbar, während das Programm ausgeführt wird. Konstanten sind ebenfalls Behälter, die wir mit einem Datum füllen können, diese können aber nicht mehr verändert werden, wenn sie einmal deklariert sind.\n",
    "\n",
    "Technisch sind Variablen Bereiche des (Arbeits-)Speichers des Computers. Wir geben einer Variablen im Quelltext unseres Programms einen Namen, damit wir diesen Speicherbereich addressieren können."
   ]
  },
  {
   "cell_type": "code",
   "execution_count": null,
   "metadata": {},
   "outputs": [],
   "source": [
    "a = 5\n",
    "a"
   ]
  },
  {
   "cell_type": "markdown",
   "metadata": {},
   "source": [
    "Das Datum einer Variable wird in Python mit einem '=' Zeichen zugewiesen. Links vor dem Gleichheitszeichen steht der Name der Variable (die Adresse). Rechts von dem Gleichheitszeichen steht der Wert (das Datum)."
   ]
  },
  {
   "cell_type": "code",
   "execution_count": null,
   "metadata": {},
   "outputs": [],
   "source": [
    "a = 5\n",
    "a = 12\n",
    "a"
   ]
  },
  {
   "cell_type": "code",
   "execution_count": null,
   "metadata": {},
   "outputs": [],
   "source": [
    "a"
   ]
  },
  {
   "cell_type": "code",
   "execution_count": null,
   "metadata": {},
   "outputs": [],
   "source": [
    "b = 8\n",
    "a = 22\n",
    "b"
   ]
  },
  {
   "cell_type": "markdown",
   "metadata": {},
   "source": [
    "## Datentypen\n",
    "\n",
    "Genauso wie es in einem Rezept unterschiedliche Arten von Zutaten gibt, gibt es in einem Programm unterschiedliche Arten von Variablenwerten bzw. von Datentypen.\n",
    "\n",
    "Alle Werte in Python sind Objekte und haben einen Typ. Wir können diesen Typ immer mit dem Befehl `type()` abfragen:"
   ]
  },
  {
   "cell_type": "code",
   "execution_count": null,
   "metadata": {},
   "outputs": [],
   "source": [
    "type(a)"
   ]
  },
  {
   "cell_type": "markdown",
   "metadata": {},
   "source": [
    "Wir unterscheiden primitive Datentypen und komplexe Datentypen. Komplexe Datentypen nutzen primitive Datentypen, um Strukturen zu erzeugen.\n",
    "\n",
    "Primitive Typen sind\n",
    "\n",
    "* int: ganze Zahlen\n",
    "* float: reele Zahlen (rationale und irrationale)\n",
    "* bool: Wahrheitswerte\n",
    "* string: Zeichenketten\n",
    "* NoneType: kein Wert, None\n",
    "\n",
    "In Python ist es nicht notwendig, den Typ eines Datums explizit anzugeben. Der Interpreter wählt den Typus, der am besten zu dem Datum passt. Indirekt bestimmen wir dennoch durch die Art, wie wir einen Wert angeben, welchen Typ der Wert hat."
   ]
  },
  {
   "cell_type": "code",
   "execution_count": null,
   "metadata": {},
   "outputs": [],
   "source": [
    "a = 5\n",
    "type(a)"
   ]
  },
  {
   "cell_type": "code",
   "execution_count": null,
   "metadata": {},
   "outputs": [],
   "source": [
    "a = 5.0\n",
    "type(a)"
   ]
  },
  {
   "cell_type": "code",
   "execution_count": null,
   "metadata": {},
   "outputs": [],
   "source": [
    "a = '5'\n",
    "type(a)"
   ]
  },
  {
   "cell_type": "code",
   "execution_count": null,
   "metadata": {},
   "outputs": [],
   "source": [
    "a = True\n",
    "type(a)"
   ]
  },
  {
   "cell_type": "code",
   "execution_count": null,
   "metadata": {},
   "outputs": [],
   "source": [
    "x\n",
    "type(x)"
   ]
  },
  {
   "cell_type": "code",
   "execution_count": null,
   "metadata": {},
   "outputs": [],
   "source": [
    "x = None\n",
    "type(x)"
   ]
  },
  {
   "cell_type": "markdown",
   "metadata": {},
   "source": [
    "Das Verändern des Typs eines Werts nennen wir 'type casting'\n",
    "\n",
    "* float(3) => 3.0 (int zu float)\n",
    "* int(3.7) => 3 (keine Rundung)\n",
    "* str(5.3) => '5.3' (als drei Zeichen)"
   ]
  },
  {
   "cell_type": "code",
   "execution_count": null,
   "metadata": {},
   "outputs": [],
   "source": [
    "float(3)"
   ]
  },
  {
   "cell_type": "code",
   "execution_count": null,
   "metadata": {},
   "outputs": [],
   "source": [
    "int(3.7)"
   ]
  },
  {
   "cell_type": "code",
   "execution_count": null,
   "metadata": {},
   "outputs": [],
   "source": [
    "str(5.3)"
   ]
  },
  {
   "cell_type": "code",
   "execution_count": null,
   "metadata": {},
   "outputs": [],
   "source": [
    "a = float('6.2')\n",
    "type(a)"
   ]
  },
  {
   "cell_type": "markdown",
   "metadata": {},
   "source": [
    "## Kommentare\n",
    "\n",
    "Wir können mit Hilfe von Kommentaren unseren Quelltext für uns selbst und für andere Menschen leichter lesbar machen. Kommentare, die nur innerhalb einer Zeile bleiben, können wir mit einem `#` einleiten. Kommentare, die über mehrere Zeilen gehen sollen, werden mit `\"\"\"` eingeleitet und auch mit `\"\"\"` wieder beendet."
   ]
  },
  {
   "cell_type": "code",
   "execution_count": null,
   "metadata": {},
   "outputs": [],
   "source": [
    "# Hier steht ein Kommentar. Kommentare werden vom Interpreter ignoriert.\n",
    "\n",
    "a = 5 # Ein Kommentar darf auch hinter einer Deklaration oder Instruktion stehen.\n",
    "# Der Teil vor dem '#' wird normal ausgeführt.\n",
    "\n",
    "\"\"\"\n",
    "Hier steht ein Kommentar, der mehrere Zeilen umfassen soll.\n",
    "Das ist manchmal sehr hilfreich, wenn wir eine komplizierte Stelle im Quelltext\n",
    "oder eine Funktion oder etwas ähnlich komplexes beschreiben wollen.\n",
    "\"\"\""
   ]
  },
  {
   "cell_type": "markdown",
   "metadata": {},
   "source": [
    "## Ausdrücke und Operatoren\n",
    "\n",
    "Ausdrücke kombinieren Objekte und Operatoren, sie haben einen Wert und einen Typ.\n",
    "\n",
    "Operatoren auf int und float sind:\n",
    "\n",
    "* `+` Addition\n",
    "* `-` Subtraktion\n",
    "* `*` Multiplikation\n",
    "* `/` Division\n",
    "* `%` Modulo\n",
    "* `**` Exponieren\n",
    "\n",
    "Klammern definieren die Reihenfolge der Operationen eines mathematischen Ausdrucks. Wenn keine Klammern angegeben sind, gilt folgende Reihenfolge: `**` vor `*` vor `/` vor `+` und `-` (von links nach rechts)"
   ]
  },
  {
   "cell_type": "markdown",
   "metadata": {},
   "source": [
    "### Übungsaufgabe\n",
    "\n",
    "Bitte berechnet, wieviel 36,3 Grad Celsius in Fahrenheit ist.\n",
    "\n",
    "Um eine Gradangabe von Celcius zu Fahrenheit umzurechnen, wird der\n",
    "Wert in Celsius mit Neun-Fünfteln multipliziert und mit 32 addiert.\n",
    "\n",
    "Deklariert dafür eine Variable c.  \n",
    "Berechnet dann den Ausdruck und speichert ihn in eine Variable f.  \n",
    "Gebt f aus.\n"
   ]
  },
  {
   "cell_type": "code",
   "execution_count": null,
   "metadata": {},
   "outputs": [],
   "source": [
    "# Wieviel ist 36,3 Grad Celsius in Fahrenheit?"
   ]
  },
  {
   "cell_type": "markdown",
   "metadata": {},
   "source": [
    "### Übungsaufgabe\n",
    "\n",
    "Berechnet den Umfang und den Flächeninhalt eines Kreises mit dem Durchmesser 6,8cm.  \n",
    "Verändert den Durchmesser zu 15,6cm. Wie groß sind Umfang und Flächeninhalt des Kreises nun?\n",
    "\n",
    "Hinweis: Um einen Annäherungswert für Pi zu haben, können wir 21,991/7 rechnen."
   ]
  },
  {
   "cell_type": "code",
   "execution_count": null,
   "metadata": {},
   "outputs": [],
   "source": [
    "# Welchen Umfang und welchen Flächeninhalt hat ein Kreis mit einem Durchmesser von 6,8cm?\n",
    "\n",
    "# Welchen Umfang und welchen Flächeninhalt hat ein Kreis mit einem Durchmesser von 15,6cm?"
   ]
  },
  {
   "cell_type": "markdown",
   "metadata": {},
   "source": [
    "Operatoren auf Zeichenketten (string) sind:\n",
    "\n",
    "* `+` Konkatenation\n",
    "* `*` Multiplikation?"
   ]
  },
  {
   "cell_type": "code",
   "execution_count": null,
   "metadata": {},
   "outputs": [],
   "source": [
    "text = 'Hello ' + 'World'\n",
    "text"
   ]
  },
  {
   "cell_type": "code",
   "execution_count": null,
   "metadata": {},
   "outputs": [],
   "source": [
    "text = 'Hello ' * 'World'\n",
    "text"
   ]
  },
  {
   "cell_type": "code",
   "execution_count": null,
   "metadata": {},
   "outputs": [],
   "source": [
    "text = 'Hello ' * 3\n",
    "text"
   ]
  },
  {
   "cell_type": "markdown",
   "metadata": {},
   "source": [
    "## Eingabe und Ausgabe\n",
    "\n",
    "In aller Regel schreiben wir Programme, die wir mehrfach für unterschiedliche Daten nutzen wollen. Eine Möglichkeit, wir wir dem Programm die Daten übergeben können, ist das Einlesen der Daten mit dem `input` Befehl. Das, was `input` einliest, wird immer als String betrachtet; es ist eventuell für Berechnungen notwendig, die Eingabe in eine Zahl zu konvertieren."
   ]
  },
  {
   "cell_type": "code",
   "execution_count": null,
   "metadata": {},
   "outputs": [],
   "source": [
    "name = input('Bitte gib deinen Namen ein: ')\n",
    "'Hallo ' + name"
   ]
  },
  {
   "cell_type": "markdown",
   "metadata": {},
   "source": [
    "Die Ausgabe von Informationen haben wir bislang nur über die in Jupyter eingebaute Ausgabe des letzten Ausdrucks erreicht, aber natürlich gibt es auch hier andere Varianten. Die einfachste ist die Funktion `print()`. Die Beschreibung der Funktion finden wir in der Python Dokumentation: https://docs.python.org/3.8/library/functions.html#print"
   ]
  },
  {
   "cell_type": "code",
   "execution_count": null,
   "metadata": {},
   "outputs": [],
   "source": [
    "x = 27\n",
    "x_str = '27'\n",
    "\n",
    "print(\"Meine Lieblingszahl ist\", x, \".\", \"x =\", x)\n",
    "print(\"Meine Lieblingszahl ist \" + x_str + \". \" + \"x = \" + x_str)"
   ]
  },
  {
   "cell_type": "code",
   "execution_count": null,
   "metadata": {},
   "outputs": [],
   "source": [
    "print(\"Meine Lieblingszahl ist \", x, \". \", \"x = \", x, sep='')"
   ]
  },
  {
   "cell_type": "markdown",
   "metadata": {},
   "source": [
    "### Übungsaufgabe\n",
    "\n",
    "Bitte nehmt die Programme zur Berechnung des Kreis-Umfangs und der -Fläche und für die Umrechnung Celsius in Fahrenheit und erfragt die zu berechnenden Werte mit Hilfe der `input` Funktion und gebt die Resultate mit der `print` Funktion aus."
   ]
  },
  {
   "cell_type": "code",
   "execution_count": null,
   "metadata": {},
   "outputs": [],
   "source": [
    "# Schreibt das Programm zur Berechnung des Umfangs und des Flächeninhalts\n",
    "# eines Kreises so um, dass ihr nach einem beliebigen Radius oder Durchmesser fragen könnt.\n",
    "\n",
    "# Schreibt das Programm zur Umrechnung von Celcius in Fahrenheit so um,\n",
    "# dass ihr beliebige Werte umrechnen könnt."
   ]
  },
  {
   "cell_type": "markdown",
   "metadata": {},
   "source": [
    "## Bedingungen, logische Operatoren und Vergleiche\n",
    "\n",
    "Eine Bedingung ist eine Prüfung, ob ein Annahme wahr oder falsch ist. Das Ergebnis einer Bedinung ist immer `wahr` oder `falsch`. Bedingungen werden immer erst zur Laufzeit des Programms entschieden.\n",
    "\n",
    "Eine Bedingung ist immer nach folgendem Muster aufgebaut:  \n",
    "Wenn… Dann… Sonst…  \n",
    "if…   then… else…"
   ]
  },
  {
   "cell_type": "code",
   "execution_count": null,
   "metadata": {},
   "outputs": [],
   "source": [
    "if True:\n",
    "    print('wahr')\n",
    "else:\n",
    "    print('falsch')"
   ]
  },
  {
   "cell_type": "markdown",
   "metadata": {},
   "source": [
    "Um Ausdrücke im Rahmen einer Bedingung logisch miteinander verknüpfen zu können, existieren die logischen Operatoren:\n",
    "\n",
    "* `and` logische Und-Verknüpfung\n",
    "* `or` logische Oder-Verknüpfung (einschließendes Oder)\n",
    "* `not` Negation"
   ]
  },
  {
   "cell_type": "code",
   "execution_count": null,
   "metadata": {},
   "outputs": [],
   "source": [
    "if True or False:\n",
    "    print('wahr')\n",
    "else:\n",
    "    print('falsch')"
   ]
  },
  {
   "cell_type": "markdown",
   "metadata": {},
   "source": [
    "Klassischerweise werden im Rahmen einer Bedinung Vergleiche angestellt. Häufig prüfen wir, ob etwas\n",
    "\n",
    "* `<` kleiner\n",
    "* `<=` kleiner oder gleich\n",
    "* `>` größer\n",
    "* `>=` größer oder gleich\n",
    "* `==` gleich\n",
    "* `!=` oder ungleich\n",
    "\n",
    "ist."
   ]
  }
 ],
 "metadata": {
  "kernelspec": {
   "display_name": "Python 3",
   "language": "python",
   "name": "python3"
  },
  "language_info": {
   "codemirror_mode": {
    "name": "ipython",
    "version": 3
   },
   "file_extension": ".py",
   "mimetype": "text/x-python",
   "name": "python",
   "nbconvert_exporter": "python",
   "pygments_lexer": "ipython3",
   "version": "3.8.5"
  }
 },
 "nbformat": 4,
 "nbformat_minor": 4
}
