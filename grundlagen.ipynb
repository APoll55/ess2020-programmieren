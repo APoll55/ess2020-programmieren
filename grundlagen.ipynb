{
 "cells": [
  {
   "cell_type": "markdown",
   "metadata": {
    "slideshow": {
     "slide_type": "slide"
    }
   },
   "source": [
    "# Grundlegende Elemente der Programmierung"
   ]
  },
  {
   "cell_type": "markdown",
   "metadata": {
    "slideshow": {
     "slide_type": "slide"
    }
   },
   "source": [
    "## Variablen\n",
    "\n",
    "Variablen sind – wie Schubladen – Behälter, in die wir Wissen hineinlegen können. Auf dieses Wissen kann ein Programm zur Laufzeit zugreifen. Der Befriff 'Variable' kommt vom lateinischen 'variare' und bedeutet 'verändern'. Die Daten in Variablen sind veränderbar, während das Programm ausgeführt wird. Konstanten sind ebenfalls Behälter, die wir mit einem Datum füllen können, diese können aber nicht mehr verändert werden, wenn sie einmal deklariert sind.\n",
    "\n",
    "Technisch sind Variablen Bereiche des (Arbeits-)Speichers des Computers. Wir geben einer Variablen im Quelltext unseres Programms einen Namen, damit wir diesen Speicherbereich addressieren können."
   ]
  },
  {
   "cell_type": "code",
   "execution_count": null,
   "metadata": {
    "slideshow": {
     "slide_type": "subslide"
    }
   },
   "outputs": [],
   "source": [
    "a = 5\n",
    "a"
   ]
  },
  {
   "cell_type": "markdown",
   "metadata": {
    "slideshow": {
     "slide_type": "fragment"
    }
   },
   "source": [
    "Das Datum einer Variable wird in Python mit einem '=' Zeichen zugewiesen. Links vor dem Gleichheitszeichen steht der Name der Variable (die Adresse). Rechts von dem Gleichheitszeichen steht der Wert (das Datum)."
   ]
  },
  {
   "cell_type": "code",
   "execution_count": null,
   "metadata": {
    "slideshow": {
     "slide_type": "subslide"
    }
   },
   "outputs": [],
   "source": [
    "a = 5\n",
    "a = 12\n",
    "a"
   ]
  },
  {
   "cell_type": "code",
   "execution_count": null,
   "metadata": {
    "slideshow": {
     "slide_type": "fragment"
    }
   },
   "outputs": [],
   "source": [
    "a"
   ]
  },
  {
   "cell_type": "code",
   "execution_count": null,
   "metadata": {
    "slideshow": {
     "slide_type": "fragment"
    }
   },
   "outputs": [],
   "source": [
    "b = 8\n",
    "a = 22\n",
    "b"
   ]
  },
  {
   "cell_type": "markdown",
   "metadata": {
    "slideshow": {
     "slide_type": "slide"
    }
   },
   "source": [
    "## Datentypen\n",
    "\n",
    "Genauso wie es in einem Rezept unterschiedliche Arten von Zutaten gibt, gibt es in einem Programm unterschiedliche Arten von Variablenwerten bzw. von Datentypen.\n",
    "\n",
    "Alle Werte in Python sind Objekte und haben einen Typ. Wir können diesen Typ immer mit dem Befehl `type()` abfragen:"
   ]
  },
  {
   "cell_type": "code",
   "execution_count": null,
   "metadata": {
    "slideshow": {
     "slide_type": "fragment"
    }
   },
   "outputs": [],
   "source": [
    "type(a)"
   ]
  },
  {
   "cell_type": "markdown",
   "metadata": {
    "slideshow": {
     "slide_type": "subslide"
    }
   },
   "source": [
    "Wir unterscheiden primitive Datentypen und komplexe Datentypen. Komplexe Datentypen nutzen primitive Datentypen, um Strukturen zu erzeugen.\n",
    "\n",
    "Primitive Typen sind\n",
    "\n",
    "* int: ganze Zahlen\n",
    "* float: reele Zahlen (rationale und irrationale)\n",
    "* bool: Wahrheitswerte\n",
    "* string: Zeichenketten\n",
    "* NoneType: kein Wert, None\n",
    "\n",
    "In Python ist es nicht notwendig, den Typ eines Datums explizit anzugeben. Der Interpreter wählt den Typus, der am besten zu dem Datum passt. Indirekt bestimmen wir dennoch durch die Art, wie wir einen Wert angeben, welchen Typ der Wert hat."
   ]
  },
  {
   "cell_type": "code",
   "execution_count": null,
   "metadata": {
    "slideshow": {
     "slide_type": "subslide"
    }
   },
   "outputs": [],
   "source": [
    "a = 5\n",
    "type(a)"
   ]
  },
  {
   "cell_type": "code",
   "execution_count": null,
   "metadata": {
    "slideshow": {
     "slide_type": "fragment"
    }
   },
   "outputs": [],
   "source": [
    "a = 5.0\n",
    "type(a)"
   ]
  },
  {
   "cell_type": "code",
   "execution_count": null,
   "metadata": {
    "slideshow": {
     "slide_type": "fragment"
    }
   },
   "outputs": [],
   "source": [
    "a = '5'\n",
    "type(a)"
   ]
  },
  {
   "cell_type": "code",
   "execution_count": null,
   "metadata": {
    "slideshow": {
     "slide_type": "subslide"
    }
   },
   "outputs": [],
   "source": [
    "a = True\n",
    "type(a)"
   ]
  },
  {
   "cell_type": "code",
   "execution_count": null,
   "metadata": {
    "slideshow": {
     "slide_type": "fragment"
    }
   },
   "outputs": [],
   "source": [
    "x\n",
    "type(x)"
   ]
  },
  {
   "cell_type": "code",
   "execution_count": null,
   "metadata": {
    "slideshow": {
     "slide_type": "fragment"
    }
   },
   "outputs": [],
   "source": [
    "x = None\n",
    "type(x)"
   ]
  },
  {
   "cell_type": "markdown",
   "metadata": {
    "slideshow": {
     "slide_type": "subslide"
    }
   },
   "source": [
    "Das Verändern des Typs eines Werts nennen wir 'type casting'\n",
    "\n",
    "* float(3) => 3.0 (int zu float)\n",
    "* int(3.7) => 3 (keine Rundung)\n",
    "* str(5.3) => '5.3' (als drei Zeichen)"
   ]
  },
  {
   "cell_type": "code",
   "execution_count": null,
   "metadata": {
    "slideshow": {
     "slide_type": "subslide"
    }
   },
   "outputs": [],
   "source": [
    "float(3)"
   ]
  },
  {
   "cell_type": "code",
   "execution_count": null,
   "metadata": {
    "slideshow": {
     "slide_type": "fragment"
    }
   },
   "outputs": [],
   "source": [
    "int(3.7)"
   ]
  },
  {
   "cell_type": "code",
   "execution_count": null,
   "metadata": {
    "slideshow": {
     "slide_type": "fragment"
    }
   },
   "outputs": [],
   "source": [
    "str(5.3)"
   ]
  },
  {
   "cell_type": "code",
   "execution_count": null,
   "metadata": {
    "slideshow": {
     "slide_type": "fragment"
    }
   },
   "outputs": [],
   "source": [
    "a = float('6.2')\n",
    "type(a)"
   ]
  },
  {
   "cell_type": "markdown",
   "metadata": {
    "slideshow": {
     "slide_type": "slide"
    }
   },
   "source": [
    "## Kommentare\n",
    "\n",
    "Wir können mit Hilfe von Kommentaren unseren Quelltext für uns selbst und für andere Menschen leichter lesbar machen. Kommentare, die nur innerhalb einer Zeile bleiben, können wir mit einem `#` einleiten. Kommentare, die über mehrere Zeilen gehen sollen, werden mit `\"\"\"` eingeleitet und auch mit `\"\"\"` wieder beendet."
   ]
  },
  {
   "cell_type": "code",
   "execution_count": null,
   "metadata": {
    "slideshow": {
     "slide_type": "fragment"
    }
   },
   "outputs": [],
   "source": [
    "# Hier steht ein Kommentar. Kommentare werden vom Interpreter ignoriert.\n",
    "\n",
    "a = 5 # Ein Kommentar darf auch hinter einer Deklaration oder Instruktion stehen.\n",
    "# Der Teil vor dem '#' wird normal ausgeführt.\n",
    "\n",
    "\"\"\"\n",
    "Hier steht ein Kommentar, der mehrere Zeilen umfassen soll.\n",
    "Das ist manchmal sehr hilfreich, wenn wir eine komplizierte Stelle im Quelltext\n",
    "oder eine Funktion oder etwas ähnlich komplexes beschreiben wollen.\n",
    "\"\"\""
   ]
  },
  {
   "cell_type": "markdown",
   "metadata": {
    "slideshow": {
     "slide_type": "slide"
    }
   },
   "source": [
    "## Ausdrücke und Operatoren\n",
    "\n",
    "Ausdrücke kombinieren Objekte und Operatoren, sie haben einen Wert und einen Typ.\n",
    "\n",
    "Operatoren auf int und float sind:\n",
    "\n",
    "* `+` Addition\n",
    "* `-` Subtraktion\n",
    "* `*` Multiplikation\n",
    "* `/` Division\n",
    "* `%` Modulo\n",
    "* `**` Exponieren\n",
    "\n",
    "Klammern definieren die Reihenfolge der Operationen eines mathematischen Ausdrucks. Wenn keine Klammern angegeben sind, gilt folgende Reihenfolge: `**` vor `*` vor `/` vor `+` und `-` (von links nach rechts)"
   ]
  },
  {
   "cell_type": "markdown",
   "metadata": {
    "slideshow": {
     "slide_type": "subslide"
    }
   },
   "source": [
    "### Übungsaufgabe\n",
    "\n",
    "Bitte berechnet, wieviel 36,3 Grad Celsius in Fahrenheit ist.\n",
    "\n",
    "Um eine Gradangabe von Celcius zu Fahrenheit umzurechnen, wird der\n",
    "Wert in Celsius mit Neun-Fünfteln multipliziert und mit 32 addiert.\n",
    "\n",
    "Deklariert dafür eine Variable c.  \n",
    "Berechnet dann den Ausdruck und speichert ihn in eine Variable f.  \n",
    "Gebt f aus.\n"
   ]
  },
  {
   "cell_type": "code",
   "execution_count": null,
   "metadata": {
    "slideshow": {
     "slide_type": "fragment"
    }
   },
   "outputs": [],
   "source": [
    "# Wieviel ist 36,3 Grad Celsius in Fahrenheit?\n",
    "\n",
    "celsius = 36.3\n",
    "fahrenheit = celsius * 9 / 5 + 32\n",
    "\n",
    "fahrenheit\n"
   ]
  },
  {
   "cell_type": "markdown",
   "metadata": {
    "slideshow": {
     "slide_type": "subslide"
    }
   },
   "source": [
    "### Übungsaufgabe\n",
    "\n",
    "Berechnet den Umfang und den Flächeninhalt eines Kreises mit dem Durchmesser 6,8cm.  \n",
    "Verändert den Durchmesser zu 15,6cm. Wie groß sind Umfang und Flächeninhalt des Kreises nun?\n",
    "\n",
    "Hinweis: Um einen Annäherungswert für Pi zu haben, können wir 21,991/7 rechnen."
   ]
  },
  {
   "cell_type": "code",
   "execution_count": null,
   "metadata": {
    "slideshow": {
     "slide_type": "fragment"
    }
   },
   "outputs": [],
   "source": [
    "# Welchen Umfang und welchen Flächeninhalt hat ein Kreis mit einem Durchmesser von 6,8cm?\n",
    "\n",
    "PI = 21.991 / 7\n",
    "\n",
    "radius = 6.8 / 2\n",
    "umfang = 2 * PI * radius\n",
    "flaeche = PI * radius**2\n",
    "\n",
    "print('Der Kreis mit dem Durchmesser von ' + str(radius * 2) + 'cm hat einen Umfang von ' + str(umfang) + 'cm und einen Flächeninhalt von ' + str(flaeche) + 'cm^2.')\n",
    "\n",
    "# Welchen Umfang und welchen Flächeninhalt hat ein Kreis mit einem Durchmesser von 15,6cm?\n",
    "\n",
    "radius = 15.6 / 2\n",
    "umfang = 2 * PI * radius\n",
    "flaeche = PI * radius**2\n",
    "\n",
    "print('Der Kreis mit dem Durchmesser von ' + str(radius * 2) + 'cm hat einen Umfang von ' + str(umfang) + 'cm und einen Flächeninhalt von ' + str(flaeche) + 'cm^2.')\n",
    "\n",
    "# Die Ausgabe der einzelnen Werte konnte zu diesem Zeitpunkt eigentlich noch nicht über print() erfolgen"
   ]
  },
  {
   "cell_type": "markdown",
   "metadata": {
    "slideshow": {
     "slide_type": "subslide"
    }
   },
   "source": [
    "Operatoren auf Zeichenketten (string) sind:\n",
    "\n",
    "* `+` Konkatenation\n",
    "* `*` Multiplikation?"
   ]
  },
  {
   "cell_type": "code",
   "execution_count": null,
   "metadata": {
    "slideshow": {
     "slide_type": "fragment"
    }
   },
   "outputs": [],
   "source": [
    "text = 'Hello ' + 'World'\n",
    "text"
   ]
  },
  {
   "cell_type": "code",
   "execution_count": null,
   "metadata": {
    "slideshow": {
     "slide_type": "fragment"
    }
   },
   "outputs": [],
   "source": [
    "text = 'Hello ' * 'World'\n",
    "text"
   ]
  },
  {
   "cell_type": "code",
   "execution_count": null,
   "metadata": {
    "slideshow": {
     "slide_type": "fragment"
    }
   },
   "outputs": [],
   "source": [
    "text = 'Hello ' * 3\n",
    "text"
   ]
  },
  {
   "cell_type": "markdown",
   "metadata": {
    "slideshow": {
     "slide_type": "slide"
    }
   },
   "source": [
    "## Eingabe und Ausgabe\n",
    "\n",
    "In aller Regel schreiben wir Programme, die wir mehrfach für unterschiedliche Daten nutzen wollen. Eine Möglichkeit, wir wir dem Programm die Daten übergeben können, ist das Einlesen der Daten mit dem `input` Befehl. Das, was `input` einliest, wird immer als String betrachtet; es ist eventuell für Berechnungen notwendig, die Eingabe in eine Zahl zu konvertieren."
   ]
  },
  {
   "cell_type": "code",
   "execution_count": null,
   "metadata": {
    "slideshow": {
     "slide_type": "fragment"
    }
   },
   "outputs": [],
   "source": [
    "name = input('Bitte gib deinen Namen ein: ')\n",
    "'Hallo ' + name"
   ]
  },
  {
   "cell_type": "markdown",
   "metadata": {
    "slideshow": {
     "slide_type": "subslide"
    }
   },
   "source": [
    "Die Ausgabe von Informationen haben wir bislang nur über die in Jupyter eingebaute Ausgabe des letzten Ausdrucks erreicht, aber natürlich gibt es auch hier andere Varianten. Die einfachste ist die Funktion `print()`. Die Beschreibung der Funktion finden wir in der Python Dokumentation: https://docs.python.org/3.8/library/functions.html#print"
   ]
  },
  {
   "cell_type": "code",
   "execution_count": null,
   "metadata": {
    "slideshow": {
     "slide_type": "fragment"
    }
   },
   "outputs": [],
   "source": [
    "x = 27\n",
    "x_str = '27'\n",
    "\n",
    "print(\"Meine Lieblingszahl ist\", x, \".\", \"x =\", x)\n",
    "print(\"Meine Lieblingszahl ist \" + x_str + \". \" + \"x = \" + x_str)"
   ]
  },
  {
   "cell_type": "code",
   "execution_count": null,
   "metadata": {
    "slideshow": {
     "slide_type": "fragment"
    }
   },
   "outputs": [],
   "source": [
    "print(\"Meine Lieblingszahl ist \", x, \". \", \"x = \", x, sep='')"
   ]
  },
  {
   "cell_type": "markdown",
   "metadata": {
    "slideshow": {
     "slide_type": "subslide"
    }
   },
   "source": [
    "### Übungsaufgabe\n",
    "\n",
    "Bitte nehmt die Programme zur Berechnung des Kreis-Umfangs und der -Fläche und für die Umrechnung Celsius in Fahrenheit und erfragt die zu berechnenden Werte mit Hilfe der `input` Funktion und gebt die Resultate mit der `print` Funktion aus."
   ]
  },
  {
   "cell_type": "code",
   "execution_count": null,
   "metadata": {
    "slideshow": {
     "slide_type": "fragment"
    }
   },
   "outputs": [],
   "source": [
    "# Schreibt das Programm zur Berechnung des Umfangs und des Flächeninhalts\n",
    "# eines Kreises so um, dass ihr nach einem beliebigen Radius oder Durchmesser fragen könnt.\n",
    "\n",
    "PI = 21.991 / 7\n",
    "\n",
    "radius = float(input('Bitte gib den Radius des zu berechnenden Kreises ein: '))\n",
    "umfang = 2 * PI * radius\n",
    "flaeche = PI * radius**2\n",
    "\n",
    "print('Der Kreis mit dem Radius von ' + str(radius) + 'cm hat einen Umfang von ' + str(umfang) + 'cm und einen Flächeninhalt von ' + str(flaeche) + 'cm^2.')\n",
    "\n",
    "\n",
    "# Schreibt das Programm zur Umrechnung von Celsius in Fahrenheit so um,\n",
    "# dass ihr beliebige Werte umrechnen könnt.\n",
    "\n",
    "celsius = float(input('Bitte gib die Gradzahl in Celsius ein, die in Fahrenheit umgerechnet werden soll: '))\n",
    "fahrenheit = celsius * 9 / 5 + 32\n",
    "\n",
    "print(str(celsius) + ' Grad Celsius sind ' + str(fahrenheit) + ' Grad Fahrenheit')"
   ]
  },
  {
   "cell_type": "markdown",
   "metadata": {
    "slideshow": {
     "slide_type": "slide"
    }
   },
   "source": [
    "## Bedingungen, logische Operatoren und Vergleiche\n",
    "\n",
    "Eine Bedingung ist eine Prüfung, ob ein Annahme wahr oder falsch ist. Das Ergebnis einer Bedinung ist immer `wahr` oder `falsch`. Bedingungen werden immer erst zur Laufzeit des Programms entschieden.\n",
    "\n",
    "Eine Bedingung ist immer nach folgendem Muster aufgebaut:  \n",
    "Wenn… Dann… Sonst…  \n",
    "if…   then… else…"
   ]
  },
  {
   "cell_type": "code",
   "execution_count": null,
   "metadata": {
    "slideshow": {
     "slide_type": "fragment"
    }
   },
   "outputs": [],
   "source": [
    "if True:\n",
    "    print('wahr')\n",
    "else:\n",
    "    print('falsch')"
   ]
  },
  {
   "cell_type": "markdown",
   "metadata": {
    "slideshow": {
     "slide_type": "subslide"
    }
   },
   "source": [
    "Um Ausdrücke im Rahmen einer Bedingung logisch miteinander verknüpfen zu können, existieren die logischen Operatoren:\n",
    "\n",
    "* `and` logische Und-Verknüpfung\n",
    "* `or` logische Oder-Verknüpfung (einschließendes Oder)\n",
    "* `not` Negation"
   ]
  },
  {
   "cell_type": "code",
   "execution_count": null,
   "metadata": {
    "slideshow": {
     "slide_type": "fragment"
    }
   },
   "outputs": [],
   "source": [
    "if True or False:\n",
    "    print('wahr')\n",
    "else:\n",
    "    print('falsch')"
   ]
  },
  {
   "cell_type": "markdown",
   "metadata": {
    "slideshow": {
     "slide_type": "subslide"
    }
   },
   "source": [
    "Klassischerweise werden im Rahmen einer Bedinung Vergleiche angestellt. Häufig prüfen wir, ob etwas\n",
    "\n",
    "* `<` kleiner\n",
    "* `<=` kleiner oder gleich\n",
    "* `>` größer\n",
    "* `>=` größer oder gleich\n",
    "* `==` gleich\n",
    "* `!=` oder ungleich\n",
    "\n",
    "ist."
   ]
  },
  {
   "cell_type": "code",
   "execution_count": null,
   "metadata": {
    "slideshow": {
     "slide_type": "subslide"
    }
   },
   "outputs": [],
   "source": [
    "x = 5\n",
    "y = 7\n",
    "\n",
    "if x >= y:\n",
    "    print('Verkehrte Welt…')\n",
    "elif x == y:\n",
    "    print('Das wäre noch verrückter…')\n",
    "else:\n",
    "    print('So stimmt es…')"
   ]
  },
  {
   "cell_type": "markdown",
   "metadata": {
    "slideshow": {
     "slide_type": "subslide"
    }
   },
   "source": [
    "### Übungsaufgabe\n",
    "\n",
    "Bitte entwickelt ein Programm, dass zwei ESS-Kursteilnehmerinnen nach einer Zahl zwischen 1 und 100 fragt. Die ESS-Teilnehmerin, die die höhere Zahl hat, gewinnt. Das Programm sollte das dann adäquat ausgeben.\n",
    "\n",
    "Bitte schreibt das Programm erst in Pseudo-Code und dann in Python auf."
   ]
  },
  {
   "cell_type": "code",
   "execution_count": null,
   "metadata": {
    "slideshow": {
     "slide_type": "fragment"
    }
   },
   "outputs": [],
   "source": [
    "# Bitte schreibt ein Programm, dass zwei eingegebene Zahlen prüft. Die höhere Zahl gewinnt.\n",
    "\n",
    "ess1 = int(input('Kursteilnehmer 1, bitte gib eine Zahl zwischen 1 und 100 ein: '))\n",
    "ess2 = int(input('Kursteilnehmer 2, bitte gib eine Zahl zwischen 1 und 100 ein: '))\n",
    "\n",
    "if ess1 == ess2:\n",
    "    print('Beide Zahlen sind gleich groß. Niemand gewinnt.')\n",
    "elif ess1 > ess2:\n",
    "    print('Kursteilnehmerin 1 gewinnt.')\n",
    "else:\n",
    "    print('Kursteilnehmerin 2 gewinnt.')"
   ]
  },
  {
   "cell_type": "code",
   "execution_count": null,
   "metadata": {},
   "outputs": [],
   "source": [
    "# Das gleiche Programm, aber mit der Überprüfung, ob die Zahlen zwischen 1 und 100 liegen\n",
    "\n",
    "ess1 = int(input('Kursteilnehmer 1, bitte gib eine Zahl zwischen 1 und 100 ein: '))\n",
    "ess2 = int(input('Kursteilnehmer 2, bitte gib eine Zahl zwischen 1 und 100 ein: '))\n",
    "\n",
    "if ess1 < 1 or ess1 > 100 or ess2 < 1 or ess2 > 100:\n",
    "    print('Bitte gebt nur ganze Zahlen zwischen 1 und 100 ein.')\n",
    "else:\n",
    "    if ess1 == ess2:\n",
    "        print('Beide Zahlen sind gleich groß. Niemand gewinnt.')\n",
    "    elif ess1 > ess2:\n",
    "        print('Kursteilnehmerin 1 gewinnt.')\n",
    "    else:\n",
    "        print('Kursteilnehmerin 2 gewinnt.')"
   ]
  }
 ],
 "metadata": {
  "kernelspec": {
   "display_name": "Python 3",
   "language": "python",
   "name": "python3"
  },
  "language_info": {
   "codemirror_mode": {
    "name": "ipython",
    "version": 3
   },
   "file_extension": ".py",
   "mimetype": "text/x-python",
   "name": "python",
   "nbconvert_exporter": "python",
   "pygments_lexer": "ipython3",
   "version": "3.8.5"
  }
 },
 "nbformat": 4,
 "nbformat_minor": 4
}
