{
 "cells": [
  {
   "cell_type": "markdown",
   "metadata": {},
   "source": [
    "# Übungsaufgaben 2"
   ]
  },
  {
   "cell_type": "code",
   "execution_count": null,
   "metadata": {},
   "outputs": [],
   "source": [
    "# Wir wollen die durchschnittliche Anzahl Wörter in den Sätzen eines Texts berechnen\n",
    "# Der Text \"Geisterkneipe\" von Lukas Böhl liegt in der Datei \"geisterkneipe.txt\" vor\n",
    "# Der Text \"Armer Eddy\" von Lukas Böhl liegt in der Datei \"armer_eddy.txt\" vor\n",
    "# 1. Berechne die durchschnittliche Anzahl Wörter pro Satz in \"Geisterkneipe\"\n",
    "# 2. Berechne die durchschnittliche Anzhal Wörter pro Satz in \"Armer Eddy\""
   ]
  },
  {
   "cell_type": "code",
   "execution_count": null,
   "metadata": {},
   "outputs": [],
   "source": [
    "# 1. Wir wollen eine CSV-Datei mit Angaben zu Bildern in der Bodleian Library in Oxford einlesen\n",
    "# 2. Wir geben die URLs der Bilder aus (\"{url}full/{width},/0/default.jpg\")\n",
    "# 3. Wir berechnen für jedes Bild eine URL, die ein Vorschaubild mit einer Größe von 2,5% darstellt\n",
    "# 4. Wir schreiben die neuen Links zurück in eine neue Textdatei\n",
    "# 5. Wir laden die Bilder herunter und sehen sie uns an"
   ]
  }
 ],
 "metadata": {
  "kernelspec": {
   "display_name": "Python 3",
   "language": "python",
   "name": "python3"
  },
  "language_info": {
   "codemirror_mode": {
    "name": "ipython",
    "version": 3
   },
   "file_extension": ".py",
   "mimetype": "text/x-python",
   "name": "python",
   "nbconvert_exporter": "python",
   "pygments_lexer": "ipython3",
   "version": "3.8.5"
  }
 },
 "nbformat": 4,
 "nbformat_minor": 4
}
