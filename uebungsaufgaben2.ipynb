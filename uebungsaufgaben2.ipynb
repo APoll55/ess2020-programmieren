{
 "cells": [
  {
   "cell_type": "markdown",
   "metadata": {},
   "source": [
    "# Übungsaufgaben 2"
   ]
  },
  {
   "cell_type": "code",
   "execution_count": null,
   "metadata": {},
   "outputs": [],
   "source": [
    "# 1. Wir wollen eine CSV-Datei mit Angaben zu Bildern in der Bodleian Library in Oxford einlesen\n",
    "# 2. Wir geben die URLs der Bilder aus (\"{url}full/{width},/0/default.jpg\")\n",
    "# 3. Wir berechnen für jedes Bild eine URL, die ein Vorschaubild mit einer Größe von 2,5% darstellt\n",
    "# 4. Wir schreiben die neuen Links zurück in eine neue Textdatei\n",
    "# 5. Wir laden die Bilder herunter und sehen sie uns an"
   ]
  }
 ],
 "metadata": {
  "kernelspec": {
   "display_name": "Python 3",
   "language": "python",
   "name": "python3"
  },
  "language_info": {
   "codemirror_mode": {
    "name": "ipython",
    "version": 3
   },
   "file_extension": ".py",
   "mimetype": "text/x-python",
   "name": "python",
   "nbconvert_exporter": "python",
   "pygments_lexer": "ipython3",
   "version": "3.8.5"
  }
 },
 "nbformat": 4,
 "nbformat_minor": 4
}
