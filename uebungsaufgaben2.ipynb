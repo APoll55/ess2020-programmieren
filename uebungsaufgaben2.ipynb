{
 "cells": [
  {
   "cell_type": "markdown",
   "metadata": {},
   "source": [
    "# Übungsaufgaben 2\n",
    "\n",
    "Bitte schreibt euer Programm immer erst im Pseudo-Code, damit ihr euch zuerst auf die Funktion des Programms konzentrieren könnt, ohne euch von den Besonderheiten der Python-Syntax ablenken zu lassen."
   ]
  }
 ],
 "metadata": {
  "kernelspec": {
   "display_name": "Python 3",
   "language": "python",
   "name": "python3"
  },
  "language_info": {
   "codemirror_mode": {
    "name": "ipython",
    "version": 3
   },
   "file_extension": ".py",
   "mimetype": "text/x-python",
   "name": "python",
   "nbconvert_exporter": "python",
   "pygments_lexer": "ipython3",
   "version": "3.8.5"
  }
 },
 "nbformat": 4,
 "nbformat_minor": 4
}
