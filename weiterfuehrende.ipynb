{
 "cells": [
  {
   "cell_type": "markdown",
   "metadata": {},
   "source": [
    "# Weiterführende Elemente der Programmierung"
   ]
  },
  {
   "cell_type": "markdown",
   "metadata": {},
   "source": [
    "## Schleifen\n",
    "\n",
    "Eins der wichtigsten Konstrukte für die Programmierung ist die Schleife. Schleifen erlauben es uns, einen Teil des Programms mehrmals unter (leicht) veränderten Bedingungen auszuführen.\n",
    "\n",
    "Wir unterscheiden dabei zwei Arten von Schleifen: \n",
    "\n",
    "* `for`-Schleife: Iteration über eine gegebene Sequenz von Objekten\n",
    "* `while`-Schleife: Iterationen solange eine boolsche Abbruchbedingung nicht erfüllt ist"
   ]
  },
  {
   "cell_type": "markdown",
   "metadata": {},
   "source": [
    "### for-Schleife\n",
    "\n",
    "Die `for`-Schleife iteriert über eine vorgegebene Sequenz von Objekten, wobei die Art der Objekte sehr unterschiedlich sein kann. Jede Iteration beinhaltet dann das Objekt, das gerade \"dran\" ist."
   ]
  },
  {
   "cell_type": "code",
   "execution_count": null,
   "metadata": {},
   "outputs": [],
   "source": [
    "for i in [1, 2, 3, 4]:\n",
    "    print(i)"
   ]
  },
  {
   "cell_type": "code",
   "execution_count": null,
   "metadata": {},
   "outputs": [],
   "source": [
    "for t in ['Mareike', 'Julius', 'Peter']:\n",
    "    print('Hallo ' + t)"
   ]
  },
  {
   "cell_type": "code",
   "execution_count": null,
   "metadata": {},
   "outputs": [],
   "source": [
    "for x in [3, 'Daniel', True, 5.7]:\n",
    "    print(x)"
   ]
  },
  {
   "cell_type": "markdown",
   "metadata": {},
   "source": [
    "### while-Schleife\n",
    "\n",
    "Für die `while`-Schleife deklarieren wir keine feste Sequenz, sondern eine Abbruchbedingung. Vor jeder Iteration wird geprüft, wie der Status der Abbruchbedingung ist. Ist die Abbruchbedingung `False`, führt die Schleife eine weitere Iteration durch. Ist die Abbruchbedingung `True`, wird keine weitere Iteration mehr durchgeführt."
   ]
  },
  {
   "cell_type": "code",
   "execution_count": null,
   "metadata": {},
   "outputs": [],
   "source": [
    "i = 0\n",
    "while i < 5:\n",
    "    print(i)\n",
    "    i += 1"
   ]
  },
  {
   "cell_type": "markdown",
   "metadata": {},
   "source": [
    "### Nützliche Konstrukte für Schleifen\n",
    "\n",
    "Die Funktion `range()` erzeugt eine Sequenz mit Zahlen: https://docs.python.org/3.8/library/functions.html#func-range"
   ]
  },
  {
   "cell_type": "code",
   "execution_count": null,
   "metadata": {},
   "outputs": [],
   "source": [
    "for x in range(5):\n",
    "    print(x)\n",
    "\n",
    "print('----')\n",
    "\n",
    "for x in range(3, 6):\n",
    "    print(x)\n",
    "\n",
    "print('----')\n",
    "\n",
    "for x in range(3, 8, 2):\n",
    "    print(x)"
   ]
  },
  {
   "cell_type": "markdown",
   "metadata": {},
   "source": [
    "Die Funktion `enumerate()` iteriert über einzelne Elemente eines Objekts (z.B. einem String). Spannend an dieser Funktion ist, dass sie uns nicht nur das Element zurückgibt, das sie gerade betrachtet, sondern auch dessen Position.  \n",
    "https://docs.python.org/3.8/library/functions.html#enumerate"
   ]
  },
  {
   "cell_type": "code",
   "execution_count": null,
   "metadata": {},
   "outputs": [],
   "source": [
    "for index, elem in enumerate(['Mareike', 'Julius', 'Peter']):\n",
    "    print(index, ': ' + elem, sep='')"
   ]
  },
  {
   "cell_type": "markdown",
   "metadata": {},
   "source": [
    "### Übungsaufgabe\n",
    "\n",
    "Gegeben ist ein etwas merkwürdiger Text `text = 'E4dcitrzosm_ tS4ulmdmweürc lS-cfhhosoglä'`, mit dem offenbar etwas schief gelaufen ist. Bitte schreibt ein Programm, das immer nur den zweiten Buchstaben des Texts ausgibt."
   ]
  },
  {
   "cell_type": "code",
   "execution_count": null,
   "metadata": {},
   "outputs": [],
   "source": [
    "# Bitte schreibt ein Programm, das Zeichen für Zeichen durch\n",
    "# den Text iteriert und jedes zweite Zeichen ausgibt.\n",
    "# Hinweise: enumerate(), modulo und print()\n",
    "\n",
    "text = 'E4dcitrzosm_ tS4ulmdmweürc lS-cfhhosoglä'"
   ]
  },
  {
   "cell_type": "markdown",
   "metadata": {},
   "source": [
    "## Datenstrukturen\n",
    "\n",
    "### Tuples\n",
    "\n",
    "Tuples sind einfache Listen in Python, die nicht mehr veränderbar sind, wenn sie einmal deklariert wurden."
   ]
  },
  {
   "cell_type": "code",
   "execution_count": null,
   "metadata": {},
   "outputs": [],
   "source": [
    "beispiel_tuple = ('Mareike', 'Julius', 'Peter', 3, 7.5, 'Julius', 'Daniel')\n",
    "\n",
    "for elem in beispiel_tuple:\n",
    "    print(elem,  ' (Datentyp = ', type(elem), ')', sep='')"
   ]
  },
  {
   "cell_type": "code",
   "execution_count": null,
   "metadata": {},
   "outputs": [],
   "source": [
    "print(beispiel_tuple[0])"
   ]
  },
  {
   "cell_type": "code",
   "execution_count": null,
   "metadata": {},
   "outputs": [],
   "source": [
    "print(beispiel_tuple[4])"
   ]
  },
  {
   "cell_type": "code",
   "execution_count": null,
   "metadata": {},
   "outputs": [],
   "source": [
    "print(beispiel_tuple[-1])"
   ]
  },
  {
   "cell_type": "code",
   "execution_count": null,
   "metadata": {},
   "outputs": [],
   "source": [
    "beispiel_tuple.count('Julius')"
   ]
  },
  {
   "cell_type": "code",
   "execution_count": null,
   "metadata": {},
   "outputs": [],
   "source": [
    "beispiel_tuple.index('Daniel')"
   ]
  },
  {
   "cell_type": "markdown",
   "metadata": {},
   "source": [
    "### Lists\n",
    "\n",
    "Listen sind wie Tuples eine Sequenz von Objekten. Listen können aber zur Laufzeit verändert werden. Es können sowohl die Werte in einer Liste verändert werden als auch die Anzahl der Elemente veringert oder vergrößert werden."
   ]
  },
  {
   "cell_type": "code",
   "execution_count": null,
   "metadata": {},
   "outputs": [],
   "source": [
    "beispiel_list = ['Mareike', 'Julius', 'Peter', 3, 7.5, 'Julius', 'Daniel']\n",
    "\n",
    "for index, elem in enumerate(beispiel_list):\n",
    "    print(str(index) + ': ' + str(elem))"
   ]
  },
  {
   "cell_type": "code",
   "execution_count": null,
   "metadata": {},
   "outputs": [],
   "source": [
    "print(beispiel_list[1])\n",
    "print(beispiel_list[2:4])\n",
    "print(beispiel_list[:2])\n",
    "print(beispiel_list[4:])"
   ]
  },
  {
   "cell_type": "code",
   "execution_count": null,
   "metadata": {},
   "outputs": [],
   "source": [
    "print(beispiel_list)\n",
    "beispiel_list[1] = 'Dennis'\n",
    "beispiel_list[4] = 'Fiona'\n",
    "print(beispiel_list)"
   ]
  },
  {
   "cell_type": "code",
   "execution_count": null,
   "metadata": {},
   "outputs": [],
   "source": [
    "if 'Daniel' in beispiel_list:\n",
    "    print('Ja, Daniel ist in der Liste')"
   ]
  },
  {
   "cell_type": "code",
   "execution_count": null,
   "metadata": {},
   "outputs": [],
   "source": [
    "print(len(beispiel_list))\n",
    "beispiel_list.append('Anastasia')\n",
    "print(len(beispiel_list))\n",
    "\n",
    "print(beispiel_list)\n",
    "beispiel_list.insert(1, 'Johannes')\n",
    "\n",
    "print(beispiel_list)\n",
    "beispiel_list.pop()\n",
    "\n",
    "print(beispiel_list)\n",
    "beispiel_list.remove('Fiona')\n",
    "\n",
    "print(beispiel_list)\n",
    "del beispiel_list[2]\n",
    "\n",
    "print(beispiel_list)"
   ]
  },
  {
   "cell_type": "markdown",
   "metadata": {},
   "source": [
    "Eine Liste der Funktionen, die wir auf Listen ausführen können, findet ihr hier: https://www.w3schools.com/python/python_lists.asp"
   ]
  },
  {
   "cell_type": "markdown",
   "metadata": {},
   "source": [
    "### Sets\n",
    "\n",
    "Sets sind Sammlungen von Werten. Die Werte dürfen alle nur einmal vorkommen. Eine feste Reihenfolge haben Sets nicht. Die Funktionen, die wir auf Sets ausführen können, findet ihr hier: https://www.w3schools.com/python/python_sets.asp"
   ]
  }
 ],
 "metadata": {
  "kernelspec": {
   "display_name": "Python 3",
   "language": "python",
   "name": "python3"
  },
  "language_info": {
   "codemirror_mode": {
    "name": "ipython",
    "version": 3
   },
   "file_extension": ".py",
   "mimetype": "text/x-python",
   "name": "python",
   "nbconvert_exporter": "python",
   "pygments_lexer": "ipython3",
   "version": "3.8.5"
  }
 },
 "nbformat": 4,
 "nbformat_minor": 4
}
